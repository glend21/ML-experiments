{
  "nbformat": 4,
  "nbformat_minor": 0,
  "metadata": {
    "colab": {
      "name": "currencies01.ipynb",
      "provenance": [],
      "authorship_tag": "ABX9TyNeZi+mprqaOdPFK1yO3GCD",
      "include_colab_link": true
    },
    "kernelspec": {
      "name": "python3",
      "display_name": "Python 3"
    }
  },
  "cells": [
    {
      "cell_type": "markdown",
      "metadata": {
        "id": "view-in-github",
        "colab_type": "text"
      },
      "source": [
        "<a href=\"https://colab.research.google.com/github/glend21/ML-experiments/blob/main/currencies01.ipynb\" target=\"_parent\"><img src=\"https://colab.research.google.com/assets/colab-badge.svg\" alt=\"Open In Colab\"/></a>"
      ]
    },
    {
      "cell_type": "markdown",
      "metadata": {
        "id": "BKzQPAgQc8Zi"
      },
      "source": [
        "Init\r\n"
      ]
    },
    {
      "cell_type": "code",
      "metadata": {
        "id": "lSwejbO9dBkb"
      },
      "source": [
        "import tensorflow as tf\r\n",
        "import math\r\n",
        "import numpy as np\r\n",
        "import matplotlib.pyplot as plt"
      ],
      "execution_count": 2,
      "outputs": []
    },
    {
      "cell_type": "markdown",
      "metadata": {
        "id": "Mcxrq8hKckS5"
      },
      "source": [
        "Set up AUDUSD training and test data\r\n",
        "\r\n",
        "Data downloaded from Yahoo Finance. Monthly close from 01/01/2010 to 16/12/2020"
      ]
    },
    {
      "cell_type": "code",
      "metadata": {
        "colab": {
          "base_uri": "https://localhost:8080/"
        },
        "id": "XphMPqujnJ8j",
        "outputId": "27c1727d-17cd-4a63-c75f-7114d20111ac"
      },
      "source": [
        "usd_train = [0.886289,\r\n",
        "0.898796,\r\n",
        "0.915583,\r\n",
        "0.924813,\r\n",
        "0.846597,\r\n",
        "0.841326,\r\n",
        "0.905223,\r\n",
        "0.891822,\r\n",
        "0.969368,\r\n",
        "0.972763,\r\n",
        "0.960707,\r\n",
        "1.015775,\r\n",
        "0.987362,\r\n",
        "1.014497,\r\n",
        "1.031917,\r\n",
        "1.0939,\r\n",
        "1.070297,\r\n",
        "1.069267,\r\n",
        "1.100001,\r\n",
        "1.0676,\r\n",
        "0.976467,\r\n",
        "1.067395,\r\n",
        "1.001803,\r\n",
        "1.014096,\r\n",
        "1.058604,\r\n",
        "1.07996,\r\n",
        "1.0351,\r\n",
        "1.045631,\r\n",
        "0.970497,\r\n",
        "1.024097,\r\n",
        "1.049869,\r\n",
        "1.028098,\r\n",
        "1.043765,\r\n",
        "1.036602,\r\n",
        "1.042938,\r\n",
        "1.039199,\r\n",
        "1.041884,\r\n",
        "1.023227,\r\n",
        "1.040875,\r\n",
        "1.034404,\r\n",
        "0.966931,\r\n",
        "0.92816,\r\n",
        "0.907276,\r\n",
        "0.890234,\r\n",
        "0.930146,\r\n",
        "0.947032,\r\n",
        "0.911328,\r\n",
        "0.891981,\r\n",
        "0.879585,\r\n",
        "0.89617,\r\n",
        "0.926012,\r\n",
        "0.927472,\r\n",
        "0.930925,\r\n",
        "0.941708,\r\n",
        "0.932575,\r\n",
        "0.933445,\r\n",
        "0.871688,\r\n",
        "0.882457,\r\n",
        "0.852442,\r\n",
        "0.818398,\r\n",
        "0.778877,\r\n",
        "0.780579,\r\n",
        "0.765814,\r\n",
        "0.799488,\r\n",
        "0.765814,\r\n",
        "0.767283,\r\n",
        "0.729448,\r\n",
        "0.714082,\r\n",
        "0.700378,\r\n",
        "0.709019,\r\n",
        "0.718391,\r\n",
        "0.728491,\r\n",
        "0.706864,\r\n",
        "0.712809,\r\n",
        "0.766107,\r\n",
        "0.760688,\r\n",
        "0.71958,\r\n",
        "0.746993,\r\n",
        "0.758783,\r\n",
        "0.752445,\r\n",
        "0.762835,\r\n",
        "0.759821,\r\n",
        "0.748447,\r\n",
        "0.744823,\r\n",
        "0.756544,\r\n",
        "0.767636,\r\n",
        "0.765521,\r\n",
        "0.74672,\r\n",
        "0.745935,\r\n",
        "0.768521,\r\n",
        "0.798594,\r\n",
        "0.790701,\r\n",
        "0.784628,\r\n",
        "0.769764,\r\n",
        "0.756659,\r\n",
        "0.780823,\r\n",
        "0.81011,\r\n",
        "0.779362,\r\n",
        "0.767813,\r\n",
        "0.757518,\r\n",
        "0.757117,\r\n",
        "0.734646]\r\n",
        "\r\n",
        "usd_test = [\r\n",
        "0.74073,\r\n",
        "0.726164,\r\n",
        "0.722543,\r\n",
        "0.709925,\r\n",
        "0.732188,\r\n",
        "0.704473,\r\n",
        "0.725468,\r\n",
        "0.714847,\r\n",
        "0.708717,\r\n",
        "0.705517,\r\n",
        "0.690608,\r\n",
        "0.700378,\r\n",
        "0.687522,\r\n",
        "0.673582,\r\n",
        "0.676087,\r\n",
        "0.689788,\r\n",
        "0.67654,\r\n",
        "0.700138,\r\n",
        "0.670826,\r\n",
        "0.65802,\r\n",
        "0.616899,\r\n",
        "0.655501,\r\n",
        "0.66335,\r\n",
        "0.687191,\r\n",
        "0.720368,\r\n",
        "0.7373,\r\n",
        "0.714362,\r\n",
        "0.703759,\r\n",
        "0.740028,\r\n",
        "0.75392,\r\n",
        "0.756693\r\n",
        "]\r\n",
        "\r\n",
        "print( \"There are %d training features and %d test features\" % (len(usd_train), len(usd_test)))\r\n"
      ],
      "execution_count": 17,
      "outputs": [
        {
          "output_type": "stream",
          "text": [
            "There are 102 training features and 31 test features\n"
          ],
          "name": "stdout"
        }
      ]
    },
    {
      "cell_type": "markdown",
      "metadata": {
        "id": "PUrI_EFndHE5"
      },
      "source": [
        "Set up GBP training and test data\r\n"
      ]
    },
    {
      "cell_type": "code",
      "metadata": {
        "colab": {
          "base_uri": "https://localhost:8080/"
        },
        "id": "_ILMiwORdNIS",
        "outputId": "0e196b63-8f70-4bce-93b3-cadf000da045"
      },
      "source": [
        "gbp_train = [\r\n",
        "  0.5544,\r\n",
        "0.5918,\r\n",
        "0.6027,\r\n",
        "0.60425,\r\n",
        "0.5826,\r\n",
        "0.5626,\r\n",
        "0.57625,\r\n",
        "0.5763,\r\n",
        "0.61338,\r\n",
        "0.6163,\r\n",
        "0.6178,\r\n",
        "0.6579,\r\n",
        "0.62373,\r\n",
        "0.62969,\r\n",
        "0.64201,\r\n",
        "0.6567,\r\n",
        "0.649,\r\n",
        "0.66487,\r\n",
        "0.6718,\r\n",
        "0.6543,\r\n",
        "0.62603,\r\n",
        "0.6621,\r\n",
        "0.6421,\r\n",
        "0.6576,\r\n",
        "0.6739,\r\n",
        "0.678,\r\n",
        "0.64573,\r\n",
        "0.642,\r\n",
        "0.6265,\r\n",
        "0.65184,\r\n",
        "0.66805,\r\n",
        "0.6509,\r\n",
        "0.6412,\r\n",
        "0.6447,\r\n",
        "0.65,\r\n",
        "0.6427,\r\n",
        "0.6593,\r\n",
        "0.6745,\r\n",
        "0.6847,\r\n",
        "0.6674,\r\n",
        "0.6346,\r\n",
        "0.6002,\r\n",
        "0.59503,\r\n",
        "0.57409,\r\n",
        "0.5751,\r\n",
        "0.59065,\r\n",
        "0.55645,\r\n",
        "0.54063,\r\n",
        "0.533,\r\n",
        "0.53664,\r\n",
        "0.556,\r\n",
        "0.5511,\r\n",
        "0.55496,\r\n",
        "0.5526,\r\n",
        "0.55128,\r\n",
        "0.5624,\r\n",
        "0.5364,\r\n",
        "0.5514,\r\n",
        "0.5404,\r\n",
        "0.5256,\r\n",
        "0.51647,\r\n",
        "0.50638,\r\n",
        "0.5168,\r\n",
        "0.5182,\r\n",
        "0.4996,\r\n",
        "0.4876,\r\n",
        "0.4674,\r\n",
        "0.463,\r\n",
        "0.4618,\r\n",
        "0.46235,\r\n",
        "0.4775,\r\n",
        "0.4913,\r\n",
        "0.496,\r\n",
        "0.5139,\r\n",
        "0.5328,\r\n",
        "0.52049,\r\n",
        "0.49154,\r\n",
        "0.5546,\r\n",
        "0.57406,\r\n",
        "0.574793,\r\n",
        "0.5881,\r\n",
        "0.621989,\r\n",
        "0.599,\r\n",
        "0.58398,\r\n",
        "0.605235,\r\n",
        "0.6169,\r\n",
        "0.61332,\r\n",
        "0.579141,\r\n",
        "0.58225,\r\n",
        "0.5905,\r\n",
        "0.607531,\r\n",
        "0.61185,\r\n",
        "0.58565,\r\n",
        "0.582603,\r\n",
        "0.56387,\r\n",
        "0.57773,\r\n",
        "0.57223,\r\n",
        "0.56037,\r\n",
        "0.54897,\r\n",
        "0.54993,\r\n",
        "0.56991,\r\n",
        "0.56054]\r\n",
        "\r\n",
        "gbp_test = [\r\n",
        "0.56386,\r\n",
        "0.55808,\r\n",
        "0.55451,\r\n",
        "0.55853,\r\n",
        "0.57269,\r\n",
        "0.55502,\r\n",
        "0.55301,\r\n",
        "0.5367,\r\n",
        "0.54336,\r\n",
        "0.54549,\r\n",
        "0.54761,\r\n",
        "0.5531,\r\n",
        "0.56526,\r\n",
        "0.55414,\r\n",
        "0.556,\r\n",
        "0.53458,\r\n",
        "0.522953,\r\n",
        "0.53387,\r\n",
        "0.51244,\r\n",
        "0.507018,\r\n",
        "0.49849,\r\n",
        "0.52553,\r\n",
        "0.540339,\r\n",
        "0.55819,\r\n",
        "0.5491,\r\n",
        "0.5517,\r\n",
        "0.55523,\r\n",
        "0.542729,\r\n",
        "0.55502,\r\n",
        "0.56536,\r\n",
        "0.56196\r\n",
        "]\r\n",
        "\r\n",
        "print( \"There are %d GBP training features and %d GBP test features\" % (len(gbp_train), len(gbp_test)))\r\n"
      ],
      "execution_count": 16,
      "outputs": [
        {
          "output_type": "stream",
          "text": [
            "There are 102 GBP training features and 31 GBP test features\n"
          ],
          "name": "stdout"
        }
      ]
    },
    {
      "cell_type": "markdown",
      "metadata": {
        "id": "g3JLlAtbet1N"
      },
      "source": [
        "Define the model and compile it"
      ]
    },
    {
      "cell_type": "code",
      "metadata": {
        "id": "v6s6_yWjfXNY"
      },
      "source": [
        "model = tf.keras.Sequential([\r\n",
        "  tf.keras.layers.Dense(units=1, input_shape=[1])\r\n",
        "])\r\n",
        "\r\n",
        "model.compile(loss='mean_squared_error',\r\n",
        "              optimizer=tf.keras.optimizers.Adam(0.1))"
      ],
      "execution_count": 9,
      "outputs": []
    },
    {
      "cell_type": "markdown",
      "metadata": {
        "id": "XJFk12C2fiKf"
      },
      "source": [
        "Train the model\r\n"
      ]
    },
    {
      "cell_type": "code",
      "metadata": {
        "colab": {
          "base_uri": "https://localhost:8080/",
          "height": 313
        },
        "id": "YBmrqzW3fjzq",
        "outputId": "99ecc341-b1b6-432c-ed3b-265240c43113"
      },
      "source": [
        "history = model.fit(usd_train, gbp_train, epochs=500, verbose=False)\r\n",
        "print(\"Finished training the model\")\r\n",
        "\r\n",
        "plt.xlabel('Epoch Number')\r\n",
        "plt.ylabel(\"Loss Magnitude\")\r\n",
        "plt.plot(history.history['loss'])"
      ],
      "execution_count": 10,
      "outputs": [
        {
          "output_type": "stream",
          "text": [
            "Finished training the model\n"
          ],
          "name": "stdout"
        },
        {
          "output_type": "execute_result",
          "data": {
            "text/plain": [
              "[<matplotlib.lines.Line2D at 0x7fe2cc450390>]"
            ]
          },
          "metadata": {
            "tags": []
          },
          "execution_count": 10
        },
        {
          "output_type": "display_data",
          "data": {
            "image/png": "[encoded data removed]",
            "text/plain": [
              "<Figure size 432x288 with 1 Axes>"
            ]
          },
          "metadata": {
            "tags": [],
            "needs_background": "light"
          }
        }
      ]
    },
    {
      "cell_type": "markdown",
      "metadata": {
        "id": "Vc8FOUgwgNIj"
      },
      "source": [
        "Predict some values\r\n"
      ]
    },
    {
      "cell_type": "code",
      "metadata": {
        "colab": {
          "base_uri": "https://localhost:8080/"
        },
        "id": "i5PEWK2hgPWJ",
        "outputId": "8d73e528-d799-4d7e-d56f-2b66c2669088"
      },
      "source": [
        "accum = 0.0\r\n",
        "for i, dollar in enumerate(usd_test):\r\n",
        "  pred = model.predict( [dollar] )\r\n",
        "  diff = pred - gbp_test[i]\r\n",
        "  perc = (abs(diff) / gbp_test[i]) * 100.0\r\n",
        "  accum += perc\r\n",
        "  print( \"Predict = %.6f, Actual = %.6f, Diff = %.6f [%.2f%%]\" \r\n",
        "        % (pred, gbp_test[i], diff, perc) )\r\n",
        "\r\n",
        "print( \"mean diff = %.2f%%\" % (accum / i) )"
      ],
      "execution_count": 35,
      "outputs": [
        {
          "output_type": "stream",
          "text": [
            "Predict = 0.526276, Actual = 0.563860, Diff = -0.037584 [6.67%]\n",
            "Predict = 0.520907, Actual = 0.558080, Diff = -0.037173 [6.66%]\n",
            "Predict = 0.519572, Actual = 0.554510, Diff = -0.034938 [6.30%]\n",
            "Predict = 0.514920, Actual = 0.558530, Diff = -0.043610 [7.81%]\n",
            "Predict = 0.523127, Actual = 0.572690, Diff = -0.049563 [8.65%]\n",
            "Predict = 0.512910, Actual = 0.555020, Diff = -0.042110 [7.59%]\n",
            "Predict = 0.520650, Actual = 0.553010, Diff = -0.032360 [5.85%]\n",
            "Predict = 0.516735, Actual = 0.536700, Diff = -0.019965 [3.72%]\n",
            "Predict = 0.514475, Actual = 0.543360, Diff = -0.028885 [5.32%]\n",
            "Predict = 0.513295, Actual = 0.545490, Diff = -0.032195 [5.90%]\n",
            "Predict = 0.507799, Actual = 0.547610, Diff = -0.039811 [7.27%]\n",
            "Predict = 0.511401, Actual = 0.553100, Diff = -0.041699 [7.54%]\n",
            "Predict = 0.506661, Actual = 0.565260, Diff = -0.058599 [10.37%]\n",
            "Predict = 0.501522, Actual = 0.554140, Diff = -0.052618 [9.50%]\n",
            "Predict = 0.502446, Actual = 0.556000, Diff = -0.053554 [9.63%]\n",
            "Predict = 0.507497, Actual = 0.534580, Diff = -0.027083 [5.07%]\n",
            "Predict = 0.502613, Actual = 0.522953, Diff = -0.020340 [3.89%]\n",
            "Predict = 0.511312, Actual = 0.533870, Diff = -0.022558 [4.23%]\n",
            "Predict = 0.500506, Actual = 0.512440, Diff = -0.011934 [2.33%]\n",
            "Predict = 0.495785, Actual = 0.507018, Diff = -0.011233 [2.22%]\n",
            "Predict = 0.480626, Actual = 0.498490, Diff = -0.017864 [3.58%]\n",
            "Predict = 0.494857, Actual = 0.525530, Diff = -0.030673 [5.84%]\n",
            "Predict = 0.497750, Actual = 0.540339, Diff = -0.042589 [7.88%]\n",
            "Predict = 0.506539, Actual = 0.558190, Diff = -0.051651 [9.25%]\n",
            "Predict = 0.518770, Actual = 0.549100, Diff = -0.030330 [5.52%]\n",
            "Predict = 0.525012, Actual = 0.551700, Diff = -0.026688 [4.84%]\n",
            "Predict = 0.516556, Actual = 0.555230, Diff = -0.038674 [6.97%]\n",
            "Predict = 0.512647, Actual = 0.542729, Diff = -0.030082 [5.54%]\n",
            "Predict = 0.526018, Actual = 0.555020, Diff = -0.029002 [5.23%]\n",
            "Predict = 0.531139, Actual = 0.565360, Diff = -0.034221 [6.05%]\n",
            "Predict = 0.532161, Actual = 0.561960, Diff = -0.029799 [5.30%]\n",
            "mean diff = 6.42%\n"
          ],
          "name": "stdout"
        }
      ]
    }
  ]
}